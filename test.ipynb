{
 "cells": [
  {
   "cell_type": "code",
   "execution_count": 1,
   "metadata": {},
   "outputs": [],
   "source": [
    "from azure.core.credentials import AzureKeyCredential\n",
    "from azure.ai.formrecognizer import DocumentAnalysisClient\n",
    "import os"
   ]
  },
  {
   "cell_type": "code",
   "execution_count": 2,
   "metadata": {},
   "outputs": [
    {
     "data": {
      "text/plain": [
       "True"
      ]
     },
     "execution_count": 2,
     "metadata": {},
     "output_type": "execute_result"
    }
   ],
   "source": [
    "from dotenv import load_dotenv\n",
    "\n",
    "load_dotenv()"
   ]
  },
  {
   "cell_type": "code",
   "execution_count": 3,
   "metadata": {},
   "outputs": [],
   "source": [
    "folder_path = \"Docs\"\n",
    "file_path = os.path.join(folder_path, \"Delivery Agreement Signed.pdf\")"
   ]
  },
  {
   "cell_type": "code",
   "execution_count": 4,
   "metadata": {},
   "outputs": [],
   "source": [
    "doc_client = DocumentAnalysisClient(\n",
    "            endpoint=os.environ[\"AZURE_FORM_RECOGNIZER_ENDPOINT\"],\n",
    "            credential=AzureKeyCredential(os.environ[\"AZURE_FORM_RECOGNIZER_KEY\"])\n",
    "        )\n",
    "with open(file_path, \"rb\") as f:\n",
    "    poller = doc_client.begin_analyze_document(\n",
    "        \"prebuilt-document\", document=f\n",
    "    )\n",
    "result = poller.result()"
   ]
  },
  {
   "cell_type": "code",
   "execution_count": 14,
   "metadata": {},
   "outputs": [
    {
     "data": {
      "text/plain": [
       "DocumentTableCell(kind=content, row_index=3, column_index=2, row_span=1, column_span=1, content=Generally, bounding_regions=[BoundingRegion(page_number=4, polygon=[Point(x=1.1736, y=2.7784), Point(x=6.1268, y=2.7784), Point(x=6.1268, y=2.9591), Point(x=1.1736, y=2.9591)])], spans=[DocumentSpan(offset=2558, length=9)])"
      ]
     },
     "execution_count": 14,
     "metadata": {},
     "output_type": "execute_result"
    }
   ],
   "source": [
    "result.tables[0].cells[10]"
   ]
  },
  {
   "cell_type": "code",
   "execution_count": 11,
   "metadata": {},
   "outputs": [
    {
     "ename": "AttributeError",
     "evalue": "'DocumentPage' object has no attribute 'tables'",
     "output_type": "error",
     "traceback": [
      "\u001b[1;31m---------------------------------------------------------------------------\u001b[0m",
      "\u001b[1;31mAttributeError\u001b[0m                            Traceback (most recent call last)",
      "Cell \u001b[1;32mIn[11], line 7\u001b[0m\n\u001b[0;32m      2\u001b[0m \u001b[38;5;28;01mfor\u001b[39;00m page_num, page \u001b[38;5;129;01min\u001b[39;00m \u001b[38;5;28menumerate\u001b[39m(result\u001b[38;5;241m.\u001b[39mpages, \u001b[38;5;241m1\u001b[39m):\n\u001b[0;32m      3\u001b[0m     page_text \u001b[38;5;241m=\u001b[39m \u001b[38;5;124m\"\u001b[39m\u001b[38;5;124m \u001b[39m\u001b[38;5;124m\"\u001b[39m\u001b[38;5;241m.\u001b[39mjoin(line\u001b[38;5;241m.\u001b[39mcontent \u001b[38;5;28;01mfor\u001b[39;00m line \u001b[38;5;129;01min\u001b[39;00m page\u001b[38;5;241m.\u001b[39mlines)\n\u001b[0;32m      4\u001b[0m     pages\u001b[38;5;241m.\u001b[39mappend({\n\u001b[0;32m      5\u001b[0m                     \u001b[38;5;124m\"\u001b[39m\u001b[38;5;124mpage_num\u001b[39m\u001b[38;5;124m\"\u001b[39m: page_num,\n\u001b[0;32m      6\u001b[0m                     \u001b[38;5;124m\"\u001b[39m\u001b[38;5;124mtext\u001b[39m\u001b[38;5;124m\"\u001b[39m: page_text,\n\u001b[1;32m----> 7\u001b[0m                     \u001b[38;5;124m\"\u001b[39m\u001b[38;5;124mtables\u001b[39m\u001b[38;5;124m\"\u001b[39m: [table\u001b[38;5;241m.\u001b[39mto_dict() \u001b[38;5;28;01mfor\u001b[39;00m table \u001b[38;5;129;01min\u001b[39;00m \u001b[43mpage\u001b[49m\u001b[38;5;241;43m.\u001b[39;49m\u001b[43mtables\u001b[49m],\n\u001b[0;32m      8\u001b[0m                     \u001b[38;5;124m\"\u001b[39m\u001b[38;5;124mkey_phrases\u001b[39m\u001b[38;5;124m\"\u001b[39m: [kp\u001b[38;5;241m.\u001b[39mcontent \u001b[38;5;28;01mfor\u001b[39;00m kp \u001b[38;5;129;01min\u001b[39;00m page\u001b[38;5;241m.\u001b[39mkey_phrases] \n\u001b[0;32m      9\u001b[0m                     \u001b[38;5;28;01mif\u001b[39;00m \u001b[38;5;28mhasattr\u001b[39m(page, \u001b[38;5;124m'\u001b[39m\u001b[38;5;124mkey_phrases\u001b[39m\u001b[38;5;124m'\u001b[39m) \u001b[38;5;28;01melse\u001b[39;00m []\n\u001b[0;32m     10\u001b[0m                 })\n",
      "\u001b[1;31mAttributeError\u001b[0m: 'DocumentPage' object has no attribute 'tables'"
     ]
    }
   ],
   "source": [
    "pages = []\n",
    "for page_num, page in enumerate(result.pages, 1):\n",
    "    page_text = \" \".join(line.content for line in page.lines)\n",
    "    pages.append({\n",
    "                    \"page_num\": page_num,\n",
    "                    \"text\": page_text,\n",
    "                    \"tables\": [table.to_dict() for table in result.tables],\n",
    "                })"
   ]
  },
  {
   "cell_type": "code",
   "execution_count": 11,
   "metadata": {},
   "outputs": [
    {
     "data": {
      "text/markdown": [
       "Dynamic procurement system 02.22 IT operation Appendix 4 Governance\n",
       "Bilag 4 Governance\n",
       "Dynamisk indkøbssystem 02.22 It-drift\n",
       "Version 1.0\n",
       "The State and Municipalities' Purchasing Service A/S The assembly hall | Pakkerivej 6, 2500 Valby Telephone +45 33 42 70 00 | CVR 17472437\n",
       "SKI\n",
       "Content\n",
       "1. Introduction\n",
       "2. Governance\n",
       "SKI\n",
       "2\n",
       "2\n",
       "SKI\n",
       "1. Introduction\n",
       "This appendix 4 (Governance) contains an overview of the appendices that regulate governance in relation to the fulfillment of the Supply Contract.\n",
       "The customer's specific requirements for governance are stated in appendix 4.a-e. The supplier's possible solution descriptions are placed in sub-appendices, which are contained in the respective appendices.\n",
       "2. Governance\n",
       "The supplier must deliver governance in accordance with what is described in the following:\n",
       "· Annex 4.a (Cooperative organisation).\n",
       "· Appendix 4.b (Allocated Key Employees).\n",
       "· Appendix 4.c (Operational processes).\n",
       ". Appendix 4.d (Revision and control).\n",
       "· Appendix 4.e (Overview of Subcontractors)."
      ],
      "text/plain": [
       "<IPython.core.display.Markdown object>"
      ]
     },
     "metadata": {},
     "output_type": "display_data"
    }
   ],
   "source": [
    "from IPython.display import Markdown, display\n",
    "display(Markdown(result.content))"
   ]
  },
  {
   "cell_type": "code",
   "execution_count": 15,
   "metadata": {},
   "outputs": [
    {
     "data": {
      "text/markdown": [
       "SKI SKI SKI 1. Introduction 1. Introduction 1. Introduction This appendix 4 (Governance) contains an overview of the appendices that regulate governance This appendix 4 (Governance) contains an overview of the appendices that regulate governance This appendix 4 (Governance) contains an overview of the appendices that regulate governance in relation to the fulfillment of the Supply Contract. in relation to the fulfillment of the Supply Contract. in relation to the fulfillment of the Supply Contract. The customer's specific requirements for governance are stated in appendix 4.a-e. The supplier's The customer's specific requirements for governance are stated in appendix 4.a-e. The supplier's The customer's specific requirements for governance are stated in appendix 4.a-e. The supplier's possible solution descriptions are placed in sub-appendices, which are contained in the respective possible solution descriptions are placed in sub-appendices, which are contained in the respective possible solution descriptions are placed in sub-appendices, which are contained in the respective appendices. appendices. appendices. 2. Governance 2. Governance 2. Governance The supplier must deliver governance in accordance with what is described in the following: The supplier must deliver governance in accordance with what is described in the following: The supplier must deliver governance in accordance with what is described in the following: · Annex 4.a (Cooperative organisation). · Annex 4.a (Cooperative organisation). · Annex 4.a (Cooperative organisation). · Appendix 4.b (Allocated Key Employees). · Appendix 4.b (Allocated Key Employees). · Appendix 4.b (Allocated Key Employees). · Appendix 4.c (Operational processes). · Appendix 4.c (Operational processes). · Appendix 4.c (Operational processes). . Appendix 4.d (Revision and control). . Appendix 4.d (Revision and control). . Appendix 4.d (Revision and control). · Appendix 4.e (Overview of Subcontractors). · Appendix 4.e (Overview of Subcontractors). · Appendix 4.e (Overview of Subcontractors)."
      ],
      "text/plain": [
       "<IPython.core.display.Markdown object>"
      ]
     },
     "metadata": {},
     "output_type": "display_data"
    }
   ],
   "source": [
    "text_content = \" \".join(line.content for line in page.lines for page in result.pages)\n",
    "display(Markdown(text_content))"
   ]
  },
  {
   "cell_type": "code",
   "execution_count": 24,
   "metadata": {},
   "outputs": [
    {
     "data": {
      "text/plain": [
       "DocumentKeyValueElement(content=Telephone, bounding_regions=[BoundingRegion(page_number=1, polygon=[Point(x=2.223, y=11.0092), Point(x=2.8523, y=11.0041), Point(x=2.8574, y=11.1615), Point(x=2.228, y=11.1564)])], spans=[DocumentSpan(offset=235, length=9)])"
      ]
     },
     "execution_count": 24,
     "metadata": {},
     "output_type": "execute_result"
    }
   ],
   "source": [
    "result.key_value_pairs[0].key"
   ]
  },
  {
   "cell_type": "code",
   "execution_count": 52,
   "metadata": {},
   "outputs": [],
   "source": [
    "from langchain_experimental.text_splitter import SemanticChunker\n",
    "from langchain_openai.embeddings import OpenAIEmbeddings\n",
    "\n",
    "text_splitter = SemanticChunker(OpenAIEmbeddings(), breakpoint_threshold_amount=95)"
   ]
  },
  {
   "cell_type": "code",
   "execution_count": 53,
   "metadata": {},
   "outputs": [
    {
     "data": {
      "text/plain": [
       "3"
      ]
     },
     "execution_count": 53,
     "metadata": {},
     "output_type": "execute_result"
    }
   ],
   "source": [
    "docs = text_splitter.create_documents([text_content])\n",
    "len(docs)"
   ]
  },
  {
   "cell_type": "code",
   "execution_count": null,
   "metadata": {},
   "outputs": [],
   "source": []
  },
  {
   "cell_type": "code",
   "execution_count": 47,
   "metadata": {},
   "outputs": [
    {
     "data": {
      "text/plain": [
       "[Document(metadata={}, page_content='SKI SKI SKI 1. Introduction 1.'),\n",
       " Document(metadata={}, page_content=\"Introduction 1. Introduction This appendix 4 (Governance) contains an overview of the appendices that regulate governance This appendix 4 (Governance) contains an overview of the appendices that regulate governance This appendix 4 (Governance) contains an overview of the appendices that regulate governance in relation to the fulfillment of the Supply Contract. in relation to the fulfillment of the Supply Contract. in relation to the fulfillment of the Supply Contract. The customer's specific requirements for governance are stated in appendix 4.a-e. The supplier's The customer's specific requirements for governance are stated in appendix 4.a-e. The supplier's The customer's specific requirements for governance are stated in appendix 4.a-e. The supplier's possible solution descriptions are placed in sub-appendices, which are contained in the respective possible solution descriptions are placed in sub-appendices, which are contained in the respective possible solution descriptions are placed in sub-appendices, which are contained in the respective appendices. appendices.\"),\n",
       " Document(metadata={}, page_content='appendices. 2. Governance 2.'),\n",
       " Document(metadata={}, page_content='Governance 2. Governance The supplier must deliver governance in accordance with what is described in the following: The supplier must deliver governance in accordance with what is described in the following: The supplier must deliver governance in accordance with what is described in the following: · Annex 4.a (Cooperative organisation). · Annex 4.a (Cooperative organisation).'),\n",
       " Document(metadata={}, page_content='· Annex 4.a (Cooperative organisation). · Appendix 4.b (Allocated Key Employees). · Appendix 4.b (Allocated Key Employees). · Appendix 4.b (Allocated Key Employees). · Appendix 4.c (Operational processes). · Appendix 4.c (Operational processes). · Appendix 4.c (Operational processes). . Appendix 4.d (Revision and control). . Appendix 4.d (Revision and control). . Appendix 4.d (Revision and control). · Appendix 4.e (Overview of Subcontractors). · Appendix 4.e (Overview of Subcontractors). · Appendix 4.e (Overview of Subcontractors).')]"
      ]
     },
     "execution_count": 47,
     "metadata": {},
     "output_type": "execute_result"
    }
   ],
   "source": [
    "docs"
   ]
  },
  {
   "cell_type": "code",
   "execution_count": 55,
   "metadata": {},
   "outputs": [
    {
     "data": {
      "text/plain": [
       "[DocumentPage(page_number=1, angle=None, width=8.2778, height=11.6944, unit=inch, lines=[DocumentLine(content=Dynamic procurement system 02.22 IT, polygon=[Point(x=0.7664, y=0.4923), Point(x=3.4106, y=0.4873), Point(x=3.4106, y=0.6598), Point(x=0.7664, y=0.67)], spans=[DocumentSpan(offset=0, length=35)]), DocumentLine(content=operation Appendix 4 Governance, polygon=[Point(x=0.7613, y=0.6751), Point(x=3.1061, y=0.67), Point(x=3.1061, y=0.8375), Point(x=0.7664, y=0.8476)], spans=[DocumentSpan(offset=36, length=31)]), DocumentLine(content=Bilag 4 Governance, polygon=[Point(x=1.9489, y=1.9694), Point(x=5.3392, y=1.9694), Point(x=5.3443, y=2.3247), Point(x=1.9489, y=2.345)], spans=[DocumentSpan(offset=68, length=18)]), DocumentLine(content=Dynamisk indkøbssystem, polygon=[Point(x=1.9489, y=2.6089), Point(x=4.182, y=2.6089), Point(x=4.182, y=2.8322), Point(x=1.9489, y=2.8373)], spans=[DocumentSpan(offset=87, length=22)]), DocumentLine(content=02.22 It-drift, polygon=[Point(x=1.9388, y=2.9591), Point(x=2.8828, y=2.9591), Point(x=2.8828, y=3.1469), Point(x=1.9388, y=3.1469)], spans=[DocumentSpan(offset=110, length=14)]), DocumentLine(content=Version, polygon=[Point(x=1.9388, y=3.7662), Point(x=2.4818, y=3.7662), Point(x=2.4767, y=3.9235), Point(x=1.9388, y=3.9185)], spans=[DocumentSpan(offset=125, length=7)]), DocumentLine(content=1.0, polygon=[Point(x=2.8726, y=3.7662), Point(x=3.0959, y=3.7662), Point(x=3.0959, y=3.9235), Point(x=2.8777, y=3.9185)], spans=[DocumentSpan(offset=133, length=3)]), DocumentLine(content=The State and Municipalities' Purchasing Service A/S, polygon=[Point(x=1.9337, y=10.6844), Point(x=5.4508, y=10.6844), Point(x=5.4508, y=10.857), Point(x=1.9337, y=10.857)], spans=[DocumentSpan(offset=137, length=52)]), DocumentLine(content=The assembly hall | Pakkerivej 6, 2500 Valby, polygon=[Point(x=2.1468, y=10.8468), Point(x=4.923, y=10.8468), Point(x=4.923, y=11.0092), Point(x=2.1468, y=11.0041)], spans=[DocumentSpan(offset=190, length=44)]), DocumentLine(content=Telephone +45 33 42 70 00 | CVR 17472437, polygon=[Point(x=2.2027, y=10.9991), Point(x=4.9687, y=10.994), Point(x=4.9687, y=11.1564), Point(x=2.2027, y=11.1615)], spans=[DocumentSpan(offset=235, length=40)]), DocumentLine(content=SKI, polygon=[Point(x=6.2426, y=10.791), Point(x=6.6841, y=10.8011), Point(x=6.6841, y=11.0041), Point(x=6.2375, y=11.0041)], spans=[DocumentSpan(offset=276, length=3)])], words=[DocumentWord(content=Dynamic, polygon=[Point(x=0.7714, y=0.4974), Point(x=1.3602, y=0.4974), Point(x=1.3652, y=0.6751), Point(x=0.7714, y=0.6751)], span=DocumentSpan(offset=0, length=7), confidence=0.995), DocumentWord(content=procurement, polygon=[Point(x=1.3957, y=0.4974), Point(x=2.2686, y=0.4923), Point(x=2.2686, y=0.67), Point(x=1.4008, y=0.67)], span=DocumentSpan(offset=8, length=11), confidence=0.973), DocumentWord(content=system, polygon=[Point(x=2.3042, y=0.4923), Point(x=2.7508, y=0.4923), Point(x=2.7508, y=0.6649), Point(x=2.3042, y=0.67)], span=DocumentSpan(offset=20, length=6), confidence=0.994), DocumentWord(content=02.22, polygon=[Point(x=2.8269, y=0.4923), Point(x=3.2177, y=0.4923), Point(x=3.2228, y=0.6649), Point(x=2.832, y=0.6649)], span=DocumentSpan(offset=27, length=5), confidence=0.993), DocumentWord(content=IT, polygon=[Point(x=3.2533, y=0.4923), Point(x=3.4055, y=0.4923), Point(x=3.4106, y=0.6598), Point(x=3.2583, y=0.6649)], span=DocumentSpan(offset=33, length=2), confidence=0.982), DocumentWord(content=operation, polygon=[Point(x=0.7664, y=0.6903), Point(x=1.3957, y=0.6801), Point(x=1.4008, y=0.8476), Point(x=0.7714, y=0.8527)], span=DocumentSpan(offset=36, length=9), confidence=0.994), DocumentWord(content=Appendix, polygon=[Point(x=1.4515, y=0.6751), Point(x=2.0961, y=0.6751), Point(x=2.0961, y=0.8476), Point(x=1.4515, y=0.8476)], span=DocumentSpan(offset=46, length=8), confidence=0.993), DocumentWord(content=4, polygon=[Point(x=2.1316, y=0.6751), Point(x=2.2179, y=0.6751), Point(x=2.2179, y=0.8476), Point(x=2.1316, y=0.8476)], span=DocumentSpan(offset=55, length=1), confidence=0.995), DocumentWord(content=Governance, polygon=[Point(x=2.2636, y=0.6751), Point(x=3.1061, y=0.6852), Point(x=3.101, y=0.8375), Point(x=2.2585, y=0.8476)], span=DocumentSpan(offset=57, length=10), confidence=0.992), DocumentWord(content=Bilag, polygon=[Point(x=1.954, y=1.9745), Point(x=2.8066, y=1.9694), Point(x=2.8016, y=2.3399), Point(x=1.9489, y=2.3501)], span=DocumentSpan(offset=68, length=5), confidence=0.995), DocumentWord(content=4, polygon=[Point(x=2.9437, y=1.9694), Point(x=3.1264, y=1.9694), Point(x=3.1264, y=2.3348), Point(x=2.9437, y=2.3399)], span=DocumentSpan(offset=74, length=1), confidence=0.996), DocumentWord(content=Governance, polygon=[Point(x=3.2431, y=1.9694), Point(x=5.3037, y=1.9846), Point(x=5.3037, y=2.2993), Point(x=3.2431, y=2.3348)], span=DocumentSpan(offset=76, length=10), confidence=0.993), DocumentWord(content=Dynamisk, polygon=[Point(x=1.954, y=2.614), Point(x=2.7863, y=2.6089), Point(x=2.7813, y=2.8424), Point(x=1.9489, y=2.8373)], span=DocumentSpan(offset=87, length=8), confidence=0.995), DocumentWord(content=indkøbssystem, polygon=[Point(x=2.832, y=2.6089), Point(x=4.1008, y=2.6089), Point(x=4.1008, y=2.8322), Point(x=2.8269, y=2.8424)], span=DocumentSpan(offset=96, length=13), confidence=0.993), DocumentWord(content=02.22, polygon=[Point(x=1.954, y=2.9642), Point(x=2.3702, y=2.9642), Point(x=2.3702, y=3.1469), Point(x=1.9489, y=3.152)], span=DocumentSpan(offset=110, length=5), confidence=0.995), DocumentWord(content=It-drift, polygon=[Point(x=2.4057, y=2.9642), Point(x=2.8726, y=2.9642), Point(x=2.8777, y=3.1469), Point(x=2.4057, y=3.1469)], span=DocumentSpan(offset=116, length=8), confidence=0.866), DocumentWord(content=Version, polygon=[Point(x=1.9489, y=3.7662), Point(x=2.4564, y=3.7713), Point(x=2.4564, y=3.9286), Point(x=1.9489, y=3.9235)], span=DocumentSpan(offset=125, length=7), confidence=0.994), DocumentWord(content=1.0, polygon=[Point(x=2.8828, y=3.7662), Point(x=3.0807, y=3.7662), Point(x=3.0756, y=3.9235), Point(x=2.8777, y=3.9185)], span=DocumentSpan(offset=133, length=3), confidence=0.996), DocumentWord(content=The, polygon=[Point(x=1.9438, y=10.6945), Point(x=2.1874, y=10.6945), Point(x=2.1925, y=10.8519), Point(x=1.9489, y=10.8468)], span=DocumentSpan(offset=137, length=3), confidence=0.997), DocumentWord(content=State, polygon=[Point(x=2.223, y=10.6945), Point(x=2.5681, y=10.6895), Point(x=2.5681, y=10.8519), Point(x=2.223, y=10.8519)], span=DocumentSpan(offset=141, length=5), confidence=0.993), DocumentWord(content=and, polygon=[Point(x=2.5985, y=10.6895), Point(x=2.8422, y=10.6895), Point(x=2.8472, y=10.857), Point(x=2.6036, y=10.8519)], span=DocumentSpan(offset=147, length=3), confidence=0.996), DocumentWord(content=Municipalities', polygon=[Point(x=2.8777, y=10.6895), Point(x=3.842, y=10.6844), Point(x=3.842, y=10.862), Point(x=2.8777, y=10.857)], span=DocumentSpan(offset=151, length=15), confidence=0.961), DocumentWord(content=Purchasing, polygon=[Point(x=3.8775, y=10.6844), Point(x=4.6439, y=10.6844), Point(x=4.6388, y=10.862), Point(x=3.8775, y=10.862)], span=DocumentSpan(offset=167, length=10), confidence=0.993), DocumentWord(content=Service, polygon=[Point(x=4.6743, y=10.6844), Point(x=5.1768, y=10.6895), Point(x=5.1717, y=10.862), Point(x=4.6743, y=10.862)], span=DocumentSpan(offset=178, length=7), confidence=0.993), DocumentWord(content=A/S, polygon=[Point(x=5.2072, y=10.6895), Point(x=5.4407, y=10.6895), Point(x=5.4356, y=10.862), Point(x=5.2072, y=10.862)], span=DocumentSpan(offset=186, length=3), confidence=0.995), DocumentWord(content=The, polygon=[Point(x=2.157, y=10.8519), Point(x=2.3905, y=10.8519), Point(x=2.3905, y=11.0041), Point(x=2.157, y=10.9991)], span=DocumentSpan(offset=190, length=3), confidence=0.998), DocumentWord(content=assembly, polygon=[Point(x=2.4209, y=10.8519), Point(x=3.0096, y=10.8468), Point(x=3.0096, y=11.0092), Point(x=2.4209, y=11.0041)], span=DocumentSpan(offset=194, length=8), confidence=0.994), DocumentWord(content=hall, polygon=[Point(x=3.0401, y=10.8468), Point(x=3.2634, y=10.8468), Point(x=3.2634, y=11.0092), Point(x=3.0452, y=11.0092)], span=DocumentSpan(offset=203, length=4), confidence=0.993), DocumentWord(content=|, polygon=[Point(x=3.2939, y=10.8468), Point(x=3.3345, y=10.8468), Point(x=3.3395, y=11.0092), Point(x=3.2939, y=11.0092)], span=DocumentSpan(offset=208, length=1), confidence=0.961), DocumentWord(content=Pakkerivej, polygon=[Point(x=3.3649, y=10.8468), Point(x=4.0196, y=10.8468), Point(x=4.0196, y=11.0143), Point(x=3.37, y=11.0092)], span=DocumentSpan(offset=210, length=10), confidence=0.984), DocumentWord(content=6,, polygon=[Point(x=4.0501, y=10.8468), Point(x=4.1871, y=10.8468), Point(x=4.1871, y=11.0143), Point(x=4.0501, y=11.0143)], span=DocumentSpan(offset=221, length=2), confidence=0.995), DocumentWord(content=2500, polygon=[Point(x=4.2176, y=10.8468), Point(x=4.5271, y=10.8519), Point(x=4.5271, y=11.0143), Point(x=4.2226, y=11.0143)], span=DocumentSpan(offset=224, length=4), confidence=0.992), DocumentWord(content=Valby, polygon=[Point(x=4.5677, y=10.8519), Point(x=4.9129, y=10.8519), Point(x=4.9129, y=11.0143), Point(x=4.5677, y=11.0143)], span=DocumentSpan(offset=229, length=5), confidence=0.994), DocumentWord(content=Telephone, polygon=[Point(x=2.223, y=11.0092), Point(x=2.8523, y=11.0041), Point(x=2.8574, y=11.1615), Point(x=2.228, y=11.1564)], span=DocumentSpan(offset=235, length=9), confidence=0.993), DocumentWord(content=+45, polygon=[Point(x=2.8929, y=11.0041), Point(x=3.1264, y=10.9991), Point(x=3.1264, y=11.1615), Point(x=2.898, y=11.1615)], span=DocumentSpan(offset=245, length=3), confidence=0.995), DocumentWord(content=33, polygon=[Point(x=3.167, y=10.9991), Point(x=3.3243, y=10.9991), Point(x=3.3243, y=11.1615), Point(x=3.167, y=11.1615)], span=DocumentSpan(offset=249, length=2), confidence=0.995), DocumentWord(content=42, polygon=[Point(x=3.3548, y=10.9991), Point(x=3.5222, y=10.9991), Point(x=3.5222, y=11.1666), Point(x=3.3548, y=11.1615)], span=DocumentSpan(offset=252, length=2), confidence=0.995), DocumentWord(content=70, polygon=[Point(x=3.5527, y=10.9991), Point(x=3.71, y=10.9991), Point(x=3.71, y=11.1666), Point(x=3.5578, y=11.1666)], span=DocumentSpan(offset=255, length=2), confidence=0.993), DocumentWord(content=00, polygon=[Point(x=3.7405, y=10.9991), Point(x=3.8877, y=10.9991), Point(x=3.8877, y=11.1666), Point(x=3.7456, y=11.1666)], span=DocumentSpan(offset=258, length=2), confidence=0.995), DocumentWord(content=|, polygon=[Point(x=3.9181, y=10.9991), Point(x=3.9841, y=10.9991), Point(x=3.9841, y=11.1615), Point(x=3.9232, y=11.1615)], span=DocumentSpan(offset=261, length=1), confidence=0.962), DocumentWord(content=CVR, polygon=[Point(x=4.0145, y=10.9991), Point(x=4.2886, y=10.9991), Point(x=4.2886, y=11.1615), Point(x=4.0145, y=11.1615)], span=DocumentSpan(offset=263, length=3), confidence=0.995), DocumentWord(content=17472437, polygon=[Point(x=4.3597, y=10.9991), Point(x=4.9687, y=10.9991), Point(x=4.9687, y=11.1564), Point(x=4.3597, y=11.1615)], span=DocumentSpan(offset=267, length=8), confidence=0.994), DocumentWord(content=SKI, polygon=[Point(x=6.2629, y=10.791), Point(x=6.6791, y=10.796), Point(x=6.674, y=11.0092), Point(x=6.2578, y=11.0041)], span=DocumentSpan(offset=276, length=3), confidence=0.993)], selection_marks=[], spans=[DocumentSpan(offset=0, length=279)], barcodes=[], formulas=[]),\n",
       " DocumentPage(page_number=2, angle=0.320084810256958, width=8.2778, height=11.6944, unit=inch, lines=[DocumentLine(content=Content, polygon=[Point(x=0.7765, y=1.3857), Point(x=1.685, y=1.3907), Point(x=1.685, y=1.6039), Point(x=0.7765, y=1.5988)], spans=[DocumentSpan(offset=280, length=7)]), DocumentLine(content=1. Introduction, polygon=[Point(x=0.7765, y=1.9389), Point(x=1.9844, y=1.9389), Point(x=1.9844, y=2.1166), Point(x=0.7765, y=2.1115)], spans=[DocumentSpan(offset=288, length=15)]), DocumentLine(content=2. Governance, polygon=[Point(x=0.7562, y=2.2384), Point(x=1.9692, y=2.2435), Point(x=1.9692, y=2.411), Point(x=0.7562, y=2.4059)], spans=[DocumentSpan(offset=304, length=13)]), DocumentLine(content=SKI, polygon=[Point(x=6.2375, y=0.7055), Point(x=6.6994, y=0.7157), Point(x=6.6943, y=0.9289), Point(x=6.2375, y=0.9289)], spans=[DocumentSpan(offset=318, length=3)]), DocumentLine(content=2, polygon=[Point(x=7.3693, y=1.9592), Point(x=7.4911, y=1.9592), Point(x=7.4911, y=2.0963), Point(x=7.3693, y=2.0963)], spans=[DocumentSpan(offset=322, length=1)]), DocumentLine(content=2, polygon=[Point(x=7.3693, y=2.2435), Point(x=7.4911, y=2.2435), Point(x=7.4911, y=2.3907), Point(x=7.3693, y=2.3856)], spans=[DocumentSpan(offset=324, length=1)])], words=[DocumentWord(content=Content, polygon=[Point(x=0.7765, y=1.3907), Point(x=1.6901, y=1.3907), Point(x=1.6901, y=1.609), Point(x=0.7765, y=1.6039)], span=DocumentSpan(offset=280, length=7), confidence=0.995), DocumentWord(content=1., polygon=[Point(x=0.7867, y=1.9491), Point(x=0.9237, y=1.9491), Point(x=0.9237, y=2.1115), Point(x=0.7867, y=2.1166)], span=DocumentSpan(offset=288, length=2), confidence=0.995), DocumentWord(content=Introduction, polygon=[Point(x=1.0658, y=1.9541), Point(x=1.9489, y=1.944), Point(x=1.9489, y=2.1166), Point(x=1.0709, y=2.1115)], span=DocumentSpan(offset=291, length=12), confidence=0.961), DocumentWord(content=2., polygon=[Point(x=0.7765, y=2.2384), Point(x=0.9237, y=2.2435), Point(x=0.9237, y=2.411), Point(x=0.7765, y=2.411)], span=DocumentSpan(offset=304, length=2), confidence=0.995), DocumentWord(content=Governance, polygon=[Point(x=1.0861, y=2.2435), Point(x=1.9591, y=2.2536), Point(x=1.9591, y=2.411), Point(x=1.081, y=2.4059)], span=DocumentSpan(offset=307, length=10), confidence=0.993), DocumentWord(content=SKI, polygon=[Point(x=6.2477, y=0.7055), Point(x=6.6994, y=0.7106), Point(x=6.6943, y=0.9339), Point(x=6.2477, y=0.9289)], span=DocumentSpan(offset=318, length=3), confidence=0.992), DocumentWord(content=2, polygon=[Point(x=7.4048, y=1.9592), Point(x=7.4759, y=1.9592), Point(x=7.4759, y=2.0963), Point(x=7.4048, y=2.0963)], span=DocumentSpan(offset=322, length=1), confidence=0.996), DocumentWord(content=2, polygon=[Point(x=7.4048, y=2.2435), Point(x=7.486, y=2.2435), Point(x=7.481, y=2.3907), Point(x=7.4048, y=2.3907)], span=DocumentSpan(offset=324, length=1), confidence=0.996)], selection_marks=[], spans=[DocumentSpan(offset=280, length=45)], barcodes=[], formulas=[]),\n",
       " DocumentPage(page_number=3, angle=None, width=8.2778, height=11.6944, unit=inch, lines=[DocumentLine(content=SKI, polygon=[Point(x=6.2375, y=0.7055), Point(x=6.6994, y=0.7157), Point(x=6.6943, y=0.9289), Point(x=6.2375, y=0.9289)], spans=[DocumentSpan(offset=326, length=3)]), DocumentLine(content=1. Introduction, polygon=[Point(x=0.7765, y=1.8882), Point(x=2.4158, y=1.8882), Point(x=2.4158, y=2.1064), Point(x=0.7765, y=2.1064)], spans=[DocumentSpan(offset=330, length=15)]), DocumentLine(content=This appendix 4 (Governance) contains an overview of the appendices that regulate governance, polygon=[Point(x=0.7714, y=2.147), Point(x=7.2982, y=2.147), Point(x=7.2982, y=2.3247), Point(x=0.7714, y=2.3247)], spans=[DocumentSpan(offset=346, length=92)]), DocumentLine(content=in relation to the fulfillment of the Supply Contract., polygon=[Point(x=0.7613, y=2.3196), Point(x=4.1414, y=2.3196), Point(x=4.1414, y=2.5023), Point(x=0.7613, y=2.4922)], spans=[DocumentSpan(offset=439, length=54)]), DocumentLine(content=The customer's specific requirements for governance are stated in appendix 4.a-e. The supplier's, polygon=[Point(x=0.7714, y=2.6647), Point(x=7.3389, y=2.6698), Point(x=7.3389, y=2.8475), Point(x=0.7714, y=2.8424)], spans=[DocumentSpan(offset=494, length=96)]), DocumentLine(content=possible solution descriptions are placed in sub-appendices, which are contained in the respective, polygon=[Point(x=0.7613, y=2.8526), Point(x=7.4099, y=2.8526), Point(x=7.4099, y=3.0251), Point(x=0.7613, y=3.0302)], spans=[DocumentSpan(offset=591, length=98)]), DocumentLine(content=appendices., polygon=[Point(x=0.7613, y=3.0404), Point(x=1.6089, y=3.0404), Point(x=1.6089, y=3.2079), Point(x=0.7613, y=3.2079)], spans=[DocumentSpan(offset=690, length=11)]), DocumentLine(content=2. Governance, polygon=[Point(x=0.7613, y=3.9083), Point(x=2.4108, y=3.9134), Point(x=2.4108, y=4.1316), Point(x=0.7613, y=4.1215)], spans=[DocumentSpan(offset=702, length=13)]), DocumentLine(content=The supplier must deliver governance in accordance with what is described in the following:, polygon=[Point(x=0.7613, y=4.157), Point(x=6.9582, y=4.157), Point(x=6.9582, y=4.3347), Point(x=0.7613, y=4.3397)], spans=[DocumentSpan(offset=716, length=91)]), DocumentLine(content=· Annex 4.a (Cooperative organisation)., polygon=[Point(x=1.1115, y=4.5225), Point(x=3.8471, y=4.5225), Point(x=3.8471, y=4.7052), Point(x=1.1115, y=4.7001)], spans=[DocumentSpan(offset=808, length=39)]), DocumentLine(content=· Appendix 4.b (Allocated Key Employees)., polygon=[Point(x=1.1013, y=4.7306), Point(x=4.0856, y=4.7306), Point(x=4.0856, y=4.9184), Point(x=1.1013, y=4.9184)], spans=[DocumentSpan(offset=848, length=41)]), DocumentLine(content=· Appendix 4.c (Operational processes)., polygon=[Point(x=1.1013, y=4.9437), Point(x=3.8775, y=4.9437), Point(x=3.8775, y=5.1214), Point(x=1.1013, y=5.1214)], spans=[DocumentSpan(offset=890, length=39)]), DocumentLine(content=. Appendix 4.d (Revision and control)., polygon=[Point(x=1.0963, y=5.1518), Point(x=3.7506, y=5.1468), Point(x=3.7506, y=5.3295), Point(x=1.0963, y=5.3295)], spans=[DocumentSpan(offset=930, length=38)]), DocumentLine(content=· Appendix 4.e (Overview of Subcontractors)., polygon=[Point(x=1.1013, y=5.36), Point(x=4.2277, y=5.365), Point(x=4.2277, y=5.5528), Point(x=1.1013, y=5.5478)], spans=[DocumentSpan(offset=969, length=44)])], words=[DocumentWord(content=SKI, polygon=[Point(x=6.2477, y=0.7055), Point(x=6.6994, y=0.7106), Point(x=6.6943, y=0.9339), Point(x=6.2477, y=0.9289)], span=DocumentSpan(offset=326, length=3), confidence=0.992), DocumentWord(content=1., polygon=[Point(x=0.7968, y=1.8882), Point(x=0.9846, y=1.8882), Point(x=0.9795, y=2.1064), Point(x=0.7917, y=2.1064)], span=DocumentSpan(offset=330, length=2), confidence=0.995), DocumentWord(content=Introduction, polygon=[Point(x=1.0303, y=1.8882), Point(x=2.3854, y=1.8882), Point(x=2.3803, y=2.1115), Point(x=1.0252, y=2.1064)], span=DocumentSpan(offset=333, length=12), confidence=0.961), DocumentWord(content=This, polygon=[Point(x=0.7816, y=2.1521), Point(x=1.0709, y=2.1521), Point(x=1.0709, y=2.3247), Point(x=0.7816, y=2.3247)], span=DocumentSpan(offset=346, length=4), confidence=0.993), DocumentWord(content=appendix, polygon=[Point(x=1.1013, y=2.1521), Point(x=1.7256, y=2.1521), Point(x=1.7307, y=2.3247), Point(x=1.1064, y=2.3247)], span=DocumentSpan(offset=351, length=8), confidence=0.993), DocumentWord(content=4, polygon=[Point(x=1.7611, y=2.1521), Point(x=1.8525, y=2.1521), Point(x=1.8576, y=2.3247), Point(x=1.7611, y=2.3247)], span=DocumentSpan(offset=360, length=1), confidence=0.995), DocumentWord(content=(Governance), polygon=[Point(x=1.888, y=2.1521), Point(x=2.832, y=2.147), Point(x=2.8371, y=2.3247), Point(x=1.888, y=2.3247)], span=DocumentSpan(offset=362, length=12), confidence=0.98), DocumentWord(content=contains, polygon=[Point(x=2.8675, y=2.147), Point(x=3.4461, y=2.147), Point(x=3.4461, y=2.3247), Point(x=2.8675, y=2.3247)], span=DocumentSpan(offset=375, length=8), confidence=0.992), DocumentWord(content=an, polygon=[Point(x=3.4766, y=2.147), Point(x=3.639, y=2.147), Point(x=3.639, y=2.3247), Point(x=3.4816, y=2.3247)], span=DocumentSpan(offset=384, length=2), confidence=0.995), DocumentWord(content=overview, polygon=[Point(x=3.6847, y=2.147), Point(x=4.2632, y=2.147), Point(x=4.2632, y=2.3247), Point(x=3.6897, y=2.3247)], span=DocumentSpan(offset=387, length=8), confidence=0.993), DocumentWord(content=of, polygon=[Point(x=4.3292, y=2.147), Point(x=4.4561, y=2.147), Point(x=4.4612, y=2.3247), Point(x=4.3343, y=2.3247)], span=DocumentSpan(offset=396, length=2), confidence=0.995), DocumentWord(content=the, polygon=[Point(x=4.4916, y=2.147), Point(x=4.7251, y=2.147), Point(x=4.7251, y=2.3247), Point(x=4.4916, y=2.3247)], span=DocumentSpan(offset=399, length=3), confidence=0.996), DocumentWord(content=appendices, polygon=[Point(x=4.7555, y=2.147), Point(x=5.5422, y=2.147), Point(x=5.5422, y=2.3247), Point(x=4.7606, y=2.3247)], span=DocumentSpan(offset=403, length=10), confidence=0.993), DocumentWord(content=that, polygon=[Point(x=5.5777, y=2.147), Point(x=5.8416, y=2.147), Point(x=5.8416, y=2.3247), Point(x=5.5777, y=2.3247)], span=DocumentSpan(offset=414, length=4), confidence=0.992), DocumentWord(content=regulate, polygon=[Point(x=5.8772, y=2.147), Point(x=6.4405, y=2.1521), Point(x=6.4405, y=2.3298), Point(x=5.8772, y=2.3247)], span=DocumentSpan(offset=419, length=8), confidence=0.993), DocumentWord(content=governance, polygon=[Point(x=6.4761, y=2.1521), Point(x=7.283, y=2.1521), Point(x=7.283, y=2.3298), Point(x=6.4761, y=2.3298)], span=DocumentSpan(offset=428, length=10), confidence=0.993), DocumentWord(content=in, polygon=[Point(x=0.7613, y=2.3298), Point(x=0.8831, y=2.3298), Point(x=0.8831, y=2.482), Point(x=0.7664, y=2.482)], span=DocumentSpan(offset=439, length=2), confidence=0.995), DocumentWord(content=relation, polygon=[Point(x=0.9136, y=2.3298), Point(x=1.4262, y=2.3298), Point(x=1.4312, y=2.4871), Point(x=0.9186, y=2.482)], span=DocumentSpan(offset=442, length=8), confidence=0.994), DocumentWord(content=to, polygon=[Point(x=1.4617, y=2.3298), Point(x=1.6038, y=2.3298), Point(x=1.6089, y=2.4922), Point(x=1.4617, y=2.4871)], span=DocumentSpan(offset=451, length=2), confidence=0.997), DocumentWord(content=the, polygon=[Point(x=1.6393, y=2.3298), Point(x=1.8626, y=2.3298), Point(x=1.8626, y=2.4922), Point(x=1.6393, y=2.4922)], span=DocumentSpan(offset=454, length=3), confidence=0.996), DocumentWord(content=fulfillment, polygon=[Point(x=1.8931, y=2.3298), Point(x=2.5478, y=2.3247), Point(x=2.5478, y=2.4973), Point(x=1.8931, y=2.4922)], span=DocumentSpan(offset=458, length=11), confidence=0.984), DocumentWord(content=of, polygon=[Point(x=2.5833, y=2.3247), Point(x=2.7153, y=2.3247), Point(x=2.7153, y=2.4973), Point(x=2.5833, y=2.4973)], span=DocumentSpan(offset=470, length=2), confidence=0.996), DocumentWord(content=the, polygon=[Point(x=2.7508, y=2.3247), Point(x=2.969, y=2.3247), Point(x=2.9741, y=2.5023), Point(x=2.7508, y=2.4973)], span=DocumentSpan(offset=473, length=3), confidence=0.997), DocumentWord(content=Supply, polygon=[Point(x=3.0249, y=2.3247), Point(x=3.4918, y=2.3247), Point(x=3.4918, y=2.5023), Point(x=3.0249, y=2.5023)], span=DocumentSpan(offset=477, length=6), confidence=0.995), DocumentWord(content=Contract., polygon=[Point(x=3.5273, y=2.3247), Point(x=4.1414, y=2.3196), Point(x=4.1414, y=2.5074), Point(x=3.5273, y=2.5023)], span=DocumentSpan(offset=484, length=9), confidence=0.99), DocumentWord(content=The, polygon=[Point(x=0.7816, y=2.6749), Point(x=1.0303, y=2.6749), Point(x=1.0354, y=2.8373), Point(x=0.7816, y=2.8373)], span=DocumentSpan(offset=494, length=3), confidence=0.997), DocumentWord(content=customer's, polygon=[Point(x=1.0658, y=2.6749), Point(x=1.8119, y=2.6698), Point(x=1.8169, y=2.8424), Point(x=1.0709, y=2.8373)], span=DocumentSpan(offset=498, length=10), confidence=0.982), DocumentWord(content=specific, polygon=[Point(x=1.8474, y=2.6698), Point(x=2.36, y=2.6698), Point(x=2.3651, y=2.8475), Point(x=1.8474, y=2.8424)], span=DocumentSpan(offset=509, length=8), confidence=0.993), DocumentWord(content=requirements, polygon=[Point(x=2.3955, y=2.6698), Point(x=3.2888, y=2.6698), Point(x=3.2939, y=2.8475), Point(x=2.4006, y=2.8475)], span=DocumentSpan(offset=518, length=12), confidence=0.979), DocumentWord(content=for, polygon=[Point(x=3.3243, y=2.6698), Point(x=3.5222, y=2.6698), Point(x=3.5222, y=2.8475), Point(x=3.3294, y=2.8475)], span=DocumentSpan(offset=531, length=3), confidence=0.995), DocumentWord(content=governance, polygon=[Point(x=3.5527, y=2.6698), Point(x=4.3597, y=2.6698), Point(x=4.3597, y=2.8475), Point(x=3.5578, y=2.8475)], span=DocumentSpan(offset=535, length=10), confidence=0.984), DocumentWord(content=are, polygon=[Point(x=4.4053, y=2.6698), Point(x=4.6236, y=2.6698), Point(x=4.6236, y=2.8475), Point(x=4.4053, y=2.8475)], span=DocumentSpan(offset=546, length=3), confidence=0.995), DocumentWord(content=stated, polygon=[Point(x=4.6693, y=2.6698), Point(x=5.0804, y=2.6698), Point(x=5.0804, y=2.8475), Point(x=4.6693, y=2.8475)], span=DocumentSpan(offset=550, length=6), confidence=0.994), DocumentWord(content=in, polygon=[Point(x=5.1159, y=2.6698), Point(x=5.2377, y=2.6698), Point(x=5.2428, y=2.8475), Point(x=5.1159, y=2.8475)], span=DocumentSpan(offset=557, length=2), confidence=0.995), DocumentWord(content=appendix, polygon=[Point(x=5.2884, y=2.6698), Point(x=5.9178, y=2.6698), Point(x=5.9178, y=2.8475), Point(x=5.2884, y=2.8475)], span=DocumentSpan(offset=560, length=8), confidence=0.993), DocumentWord(content=4.a-e., polygon=[Point(x=5.9533, y=2.6698), Point(x=6.3644, y=2.6698), Point(x=6.3644, y=2.8475), Point(x=5.9533, y=2.8475)], span=DocumentSpan(offset=569, length=6), confidence=0.983), DocumentWord(content=The, polygon=[Point(x=6.3999, y=2.6698), Point(x=6.6486, y=2.6749), Point(x=6.6537, y=2.8475), Point(x=6.3999, y=2.8475)], span=DocumentSpan(offset=576, length=3), confidence=0.997), DocumentWord(content=supplier's, polygon=[Point(x=6.6841, y=2.6749), Point(x=7.3389, y=2.6749), Point(x=7.3439, y=2.8475), Point(x=6.6892, y=2.8475)], span=DocumentSpan(offset=580, length=10), confidence=0.992), DocumentWord(content=possible, polygon=[Point(x=0.7613, y=2.8678), Point(x=1.3348, y=2.8627), Point(x=1.3348, y=3.0302), Point(x=0.7613, y=3.0251)], span=DocumentSpan(offset=591, length=8), confidence=0.992), DocumentWord(content=solution, polygon=[Point(x=1.3652, y=2.8627), Point(x=1.8931, y=2.8576), Point(x=1.8982, y=3.0302), Point(x=1.3703, y=3.0302)], span=DocumentSpan(offset=600, length=8), confidence=0.991), DocumentWord(content=descriptions, polygon=[Point(x=1.9388, y=2.8576), Point(x=2.761, y=2.8576), Point(x=2.761, y=3.0353), Point(x=1.9388, y=3.0302)], span=DocumentSpan(offset=609, length=12), confidence=0.991), DocumentWord(content=are, polygon=[Point(x=2.7965, y=2.8576), Point(x=3.0198, y=2.8576), Point(x=3.0198, y=3.0353), Point(x=2.7965, y=3.0353)], span=DocumentSpan(offset=622, length=3), confidence=0.994), DocumentWord(content=placed, polygon=[Point(x=3.0502, y=2.8576), Point(x=3.5019, y=2.8576), Point(x=3.5019, y=3.0353), Point(x=3.0553, y=3.0353)], span=DocumentSpan(offset=626, length=6), confidence=0.994), DocumentWord(content=in, polygon=[Point(x=3.5375, y=2.8576), Point(x=3.6694, y=2.8526), Point(x=3.6694, y=3.0353), Point(x=3.5375, y=3.0353)], span=DocumentSpan(offset=633, length=2), confidence=0.995), DocumentWord(content=sub-appendices,, polygon=[Point(x=3.7151, y=2.8526), Point(x=4.8367, y=2.8526), Point(x=4.8418, y=3.0353), Point(x=3.7151, y=3.0353)], span=DocumentSpan(offset=636, length=15), confidence=0.967), DocumentWord(content=which, polygon=[Point(x=4.8723, y=2.8526), Point(x=5.2681, y=2.8576), Point(x=5.2681, y=3.0302), Point(x=4.8723, y=3.0353)], span=DocumentSpan(offset=652, length=5), confidence=0.995), DocumentWord(content=are, polygon=[Point(x=5.3087, y=2.8576), Point(x=5.5371, y=2.8576), Point(x=5.5371, y=3.0302), Point(x=5.3138, y=3.0302)], span=DocumentSpan(offset=658, length=3), confidence=0.996), DocumentWord(content=contained, polygon=[Point(x=5.5676, y=2.8576), Point(x=6.2324, y=2.8576), Point(x=6.2324, y=3.0302), Point(x=5.5727, y=3.0302)], span=DocumentSpan(offset=662, length=9), confidence=0.991), DocumentWord(content=in, polygon=[Point(x=6.268, y=2.8576), Point(x=6.3898, y=2.8576), Point(x=6.3898, y=3.0302), Point(x=6.268, y=3.0302)], span=DocumentSpan(offset=672, length=2), confidence=0.995), DocumentWord(content=the, polygon=[Point(x=6.4355, y=2.8576), Point(x=6.6486, y=2.8576), Point(x=6.6486, y=3.0302), Point(x=6.4355, y=3.0302)], span=DocumentSpan(offset=675, length=3), confidence=0.993), DocumentWord(content=respective, polygon=[Point(x=6.6791, y=2.8576), Point(x=7.3896, y=2.8627), Point(x=7.3896, y=3.0251), Point(x=6.6841, y=3.0251)], span=DocumentSpan(offset=679, length=10), confidence=0.991), DocumentWord(content=appendices., polygon=[Point(x=0.7714, y=3.0404), Point(x=1.6038, y=3.0454), Point(x=1.6089, y=3.2129), Point(x=0.7765, y=3.2129)], span=DocumentSpan(offset=690, length=11), confidence=0.987), DocumentWord(content=2., polygon=[Point(x=0.7917, y=3.9134), Point(x=1.0049, y=3.9134), Point(x=1.0049, y=4.1266), Point(x=0.7917, y=4.1266)], span=DocumentSpan(offset=702, length=2), confidence=0.995), DocumentWord(content=Governance, polygon=[Point(x=1.0455, y=3.9134), Point(x=2.3905, y=3.9185), Point(x=2.3905, y=4.1316), Point(x=1.0506, y=4.1266)], span=DocumentSpan(offset=705, length=10), confidence=0.993), DocumentWord(content=The, polygon=[Point(x=0.7816, y=4.1672), Point(x=1.0404, y=4.1672), Point(x=1.0455, y=4.3448), Point(x=0.7867, y=4.3448)], span=DocumentSpan(offset=716, length=3), confidence=0.997), DocumentWord(content=supplier, polygon=[Point(x=1.076, y=4.1672), Point(x=1.5987, y=4.1621), Point(x=1.6038, y=4.3397), Point(x=1.076, y=4.3448)], span=DocumentSpan(offset=720, length=8), confidence=0.993), DocumentWord(content=must, polygon=[Point(x=1.6342, y=4.1621), Point(x=1.9844, y=4.1621), Point(x=1.9895, y=4.3397), Point(x=1.6393, y=4.3397)], span=DocumentSpan(offset=729, length=4), confidence=0.992), DocumentWord(content=deliver, polygon=[Point(x=2.02, y=4.1621), Point(x=2.4767, y=4.1621), Point(x=2.4818, y=4.3397), Point(x=2.025, y=4.3397)], span=DocumentSpan(offset=734, length=7), confidence=0.994), DocumentWord(content=governance, polygon=[Point(x=2.5123, y=4.1621), Point(x=3.304, y=4.1621), Point(x=3.3091, y=4.3397), Point(x=2.5173, y=4.3397)], span=DocumentSpan(offset=742, length=10), confidence=0.993), DocumentWord(content=in, polygon=[Point(x=3.3395, y=4.1621), Point(x=3.4715, y=4.1621), Point(x=3.4715, y=4.3397), Point(x=3.3446, y=4.3397)], span=DocumentSpan(offset=753, length=2), confidence=0.995), DocumentWord(content=accordance, polygon=[Point(x=3.5172, y=4.1621), Point(x=4.3089, y=4.1621), Point(x=4.314, y=4.3397), Point(x=3.5172, y=4.3397)], span=DocumentSpan(offset=756, length=10), confidence=0.992), DocumentWord(content=with, polygon=[Point(x=4.3444, y=4.1621), Point(x=4.6236, y=4.1621), Point(x=4.6287, y=4.3397), Point(x=4.3495, y=4.3397)], span=DocumentSpan(offset=767, length=4), confidence=0.993), DocumentWord(content=what, polygon=[Point(x=4.6591, y=4.1621), Point(x=4.9738, y=4.1621), Point(x=4.9788, y=4.3397), Point(x=4.6642, y=4.3397)], span=DocumentSpan(offset=772, length=4), confidence=0.993), DocumentWord(content=is, polygon=[Point(x=5.0093, y=4.1621), Point(x=5.1413, y=4.1621), Point(x=5.1413, y=4.3397), Point(x=5.0144, y=4.3397)], span=DocumentSpan(offset=777, length=2), confidence=0.996), DocumentWord(content=described, polygon=[Point(x=5.1768, y=4.1621), Point(x=5.8416, y=4.1621), Point(x=5.8416, y=4.3397), Point(x=5.1768, y=4.3397)], span=DocumentSpan(offset=780, length=9), confidence=0.994), DocumentWord(content=in, polygon=[Point(x=5.8772, y=4.1621), Point(x=6.0041, y=4.1621), Point(x=6.0091, y=4.3397), Point(x=5.8772, y=4.3397)], span=DocumentSpan(offset=790, length=2), confidence=0.996), DocumentWord(content=the, polygon=[Point(x=6.0396, y=4.1621), Point(x=6.2629, y=4.1621), Point(x=6.2629, y=4.3397), Point(x=6.0396, y=4.3397)], span=DocumentSpan(offset=793, length=3), confidence=0.995), DocumentWord(content=following:, polygon=[Point(x=6.2933, y=4.1621), Point(x=6.9531, y=4.1672), Point(x=6.9582, y=4.3397), Point(x=6.2984, y=4.3397)], span=DocumentSpan(offset=797, length=10), confidence=0.99), DocumentWord(content=·, polygon=[Point(x=1.1166, y=4.5275), Point(x=1.2028, y=4.5275), Point(x=1.2028, y=4.695), Point(x=1.1166, y=4.695)], span=DocumentSpan(offset=808, length=1), confidence=0.518), DocumentWord(content=Annex, polygon=[Point(x=1.2739, y=4.5275), Point(x=1.7104, y=4.5275), Point(x=1.7104, y=4.7001), Point(x=1.2739, y=4.695)], span=DocumentSpan(offset=810, length=5), confidence=0.994), DocumentWord(content=4.a, polygon=[Point(x=1.7459, y=4.5275), Point(x=1.9641, y=4.5275), Point(x=1.9641, y=4.7052), Point(x=1.7459, y=4.7052)], span=DocumentSpan(offset=816, length=3), confidence=0.994), DocumentWord(content=(Cooperative, polygon=[Point(x=1.9997, y=4.5275), Point(x=2.8777, y=4.5275), Point(x=2.8777, y=4.7103), Point(x=1.9997, y=4.7052)], span=DocumentSpan(offset=820, length=12), confidence=0.985), DocumentWord(content=organisation)., polygon=[Point(x=2.9132, y=4.5275), Point(x=3.8521, y=4.5225), Point(x=3.8521, y=4.7103), Point(x=2.9132, y=4.7103)], span=DocumentSpan(offset=833, length=14), confidence=0.984), DocumentWord(content=·, polygon=[Point(x=1.1115, y=4.7458), Point(x=1.2028, y=4.7458), Point(x=1.213, y=4.9133), Point(x=1.1166, y=4.9133)], span=DocumentSpan(offset=848, length=1), confidence=0.545), DocumentWord(content=Appendix, polygon=[Point(x=1.2637, y=4.7458), Point(x=1.9083, y=4.7407), Point(x=1.9134, y=4.9133), Point(x=1.2688, y=4.9133)], span=DocumentSpan(offset=850, length=8), confidence=0.988), DocumentWord(content=4.b, polygon=[Point(x=1.9438, y=4.7407), Point(x=2.157, y=4.7356), Point(x=2.1621, y=4.9133), Point(x=1.9489, y=4.9133)], span=DocumentSpan(offset=859, length=3), confidence=0.995), DocumentWord(content=(Allocated, polygon=[Point(x=2.2027, y=4.7356), Point(x=2.8828, y=4.7356), Point(x=2.8878, y=4.9184), Point(x=2.2077, y=4.9133)], span=DocumentSpan(offset=863, length=10), confidence=0.991), DocumentWord(content=Key, polygon=[Point(x=2.9183, y=4.7356), Point(x=3.2025, y=4.7356), Point(x=3.2025, y=4.9184), Point(x=2.9234, y=4.9184)], span=DocumentSpan(offset=874, length=3), confidence=0.995), DocumentWord(content=Employees)., polygon=[Point(x=3.233, y=4.7356), Point(x=4.0856, y=4.7356), Point(x=4.0856, y=4.9234), Point(x=3.238, y=4.9184)], span=DocumentSpan(offset=878, length=11), confidence=0.992), DocumentWord(content=·, polygon=[Point(x=1.1115, y=4.9539), Point(x=1.2028, y=4.9539), Point(x=1.2079, y=5.1214), Point(x=1.1166, y=5.1214)], span=DocumentSpan(offset=890, length=1), confidence=0.575), DocumentWord(content=Appendix, polygon=[Point(x=1.2739, y=4.9539), Point(x=1.9134, y=4.9488), Point(x=1.9134, y=5.1214), Point(x=1.279, y=5.1214)], span=DocumentSpan(offset=892, length=8), confidence=0.992), DocumentWord(content=4.c, polygon=[Point(x=1.9489, y=4.9488), Point(x=2.157, y=4.9488), Point(x=2.157, y=5.1265), Point(x=1.9489, y=5.1214)], span=DocumentSpan(offset=901, length=3), confidence=0.995), DocumentWord(content=(Operational, polygon=[Point(x=2.1874, y=4.9488), Point(x=3.035, y=4.9488), Point(x=3.035, y=5.1265), Point(x=2.1874, y=5.1265)], span=DocumentSpan(offset=905, length=12), confidence=0.993), DocumentWord(content=processes)., polygon=[Point(x=3.0705, y=4.9488), Point(x=3.8724, y=4.9488), Point(x=3.8724, y=5.1265), Point(x=3.0705, y=5.1265)], span=DocumentSpan(offset=918, length=11), confidence=0.982), DocumentWord(content=., polygon=[Point(x=1.1216, y=5.1569), Point(x=1.213, y=5.1569), Point(x=1.213, y=5.3244), Point(x=1.1216, y=5.3244)], span=DocumentSpan(offset=930, length=1), confidence=0.552), DocumentWord(content=Appendix, polygon=[Point(x=1.2688, y=5.1569), Point(x=1.9134, y=5.1569), Point(x=1.9134, y=5.3346), Point(x=1.2739, y=5.3295)], span=DocumentSpan(offset=932, length=8), confidence=0.993), DocumentWord(content=4.d, polygon=[Point(x=1.9489, y=5.1569), Point(x=2.1671, y=5.1569), Point(x=2.1671, y=5.3346), Point(x=1.9489, y=5.3346)], span=DocumentSpan(offset=941, length=3), confidence=0.995), DocumentWord(content=(Revision, polygon=[Point(x=2.2027, y=5.1569), Point(x=2.8472, y=5.1569), Point(x=2.8472, y=5.3346), Point(x=2.2027, y=5.3346)], span=DocumentSpan(offset=945, length=9), confidence=0.974), DocumentWord(content=and, polygon=[Point(x=2.8929, y=5.1569), Point(x=3.1467, y=5.1518), Point(x=3.1467, y=5.3346), Point(x=2.8929, y=5.3346)], span=DocumentSpan(offset=955, length=3), confidence=0.996), DocumentWord(content=control)., polygon=[Point(x=3.1822, y=5.1518), Point(x=3.7506, y=5.1518), Point(x=3.7456, y=5.3295), Point(x=3.1822, y=5.3346)], span=DocumentSpan(offset=959, length=9), confidence=0.992), DocumentWord(content=·, polygon=[Point(x=1.1216, y=5.365), Point(x=1.2181, y=5.365), Point(x=1.213, y=5.5579), Point(x=1.1166, y=5.5579)], span=DocumentSpan(offset=969, length=1), confidence=0.513), DocumentWord(content=Appendix, polygon=[Point(x=1.2739, y=5.365), Point(x=1.9134, y=5.3701), Point(x=1.9134, y=5.5528), Point(x=1.2739, y=5.5528)], span=DocumentSpan(offset=971, length=8), confidence=0.993), DocumentWord(content=4.e, polygon=[Point(x=1.9489, y=5.3701), Point(x=2.1671, y=5.3701), Point(x=2.1671, y=5.5528), Point(x=1.9489, y=5.5528)], span=DocumentSpan(offset=980, length=3), confidence=0.995), DocumentWord(content=(Overview, polygon=[Point(x=2.2027, y=5.3701), Point(x=2.8777, y=5.3752), Point(x=2.8777, y=5.5528), Point(x=2.2027, y=5.5528)], span=DocumentSpan(offset=984, length=9), confidence=0.985), DocumentWord(content=of, polygon=[Point(x=2.9386, y=5.3752), Point(x=3.0858, y=5.3752), Point(x=3.0807, y=5.5528), Point(x=2.9386, y=5.5528)], span=DocumentSpan(offset=994, length=2), confidence=0.995), DocumentWord(content=Subcontractors)., polygon=[Point(x=3.1213, y=5.3752), Point(x=4.2328, y=5.365), Point(x=4.2328, y=5.5579), Point(x=3.1162, y=5.5528)], span=DocumentSpan(offset=997, length=16), confidence=0.984)], selection_marks=[], spans=[DocumentSpan(offset=326, length=687)], barcodes=[], formulas=[])]"
      ]
     },
     "execution_count": 55,
     "metadata": {},
     "output_type": "execute_result"
    }
   ],
   "source": [
    "result.pages"
   ]
  },
  {
   "cell_type": "code",
   "execution_count": 10,
   "metadata": {},
   "outputs": [],
   "source": [
    "import os\n",
    "from langchain_anthropic import ChatAnthropic\n",
    "\n",
    "model = ChatAnthropic(api_key=os.environ[\"ANTHROPIC_API_KEY\"], model_name=\"claude-3-5-sonnet-latest\")"
   ]
  },
  {
   "cell_type": "code",
   "execution_count": 8,
   "metadata": {},
   "outputs": [],
   "source": [
    "from langchain_core.output_parsers import PydanticOutputParser\n",
    "from pydantic import BaseModel, Field\n",
    "from typing import List\n",
    "from langchain.prompts import ChatPromptTemplate"
   ]
  },
  {
   "cell_type": "code",
   "execution_count": 7,
   "metadata": {},
   "outputs": [],
   "source": [
    "class Properties(BaseModel):\n",
    "    entities: List[str] = Field(default_factory=list, description=\"Extracted entities\")\n",
    "    technical_terms: List[str] = Field(default_factory=list, description=\"Extracted technical terms\")\n",
    "    requirements: List[str] = Field(default_factory=list, description=\"Extracted requirements\")\n",
    "    dependencies: List[str] = Field(default_factory=list, description=\"Extracted dependencies\")\n",
    "    dates: List[str] = Field(default_factory=list, description=\"Extracted dates\")\n",
    "    monetary_values: List[str] = Field(default_factory=list, description=\"Extracted monetary values\")\n",
    "    stakeholders: List[str] = Field(default_factory=list, description=\"Extracted stakeholders\")\n",
    "    key_phrases: List[str] = Field(default_factory=list, description=\"Extracted key phrases\")"
   ]
  },
  {
   "cell_type": "code",
   "execution_count": 11,
   "metadata": {},
   "outputs": [],
   "source": [
    "parser = PydanticOutputParser(pydantic_object=Properties)\n",
    "        \n",
    "system_template = \"\"\"Analyze the following text and extract structured information.\n",
    "Focus on: entities, technical terms, requirements, dependencies, dates, monetary values,\n",
    "stakeholders, and key phrases. Return results in JSON format.\"\"\"\n",
    "\n",
    "        # Define the prompt with Pydantic format instructions\n",
    "prompt = ChatPromptTemplate.from_messages([\n",
    "            (\"system\", system_template + \"\\n{format_instructions}\"),\n",
    "            (\"human\", \"{text}\")\n",
    "        ]).partial(format_instructions=parser.get_format_instructions())\n",
    "\n",
    "chain = prompt | model | parser\n",
    "\n",
    "\n",
    "response = await chain.ainvoke({\"text\": \"\"\"Dynamic procurement system 02.22 IT\n",
    "operation Appendix 4 Governance\n",
    "The State and Municipalities' Purchasing Service A/S\n",
    "The assembly hall | Pakkerivej 6, 2500 Valby\n",
    "Telephone +45 33 42 70 00 | CVR 17472437\n",
    "\"\"\"})"
   ]
  },
  {
   "cell_type": "code",
   "execution_count": 15,
   "metadata": {},
   "outputs": [
    {
     "name": "stderr",
     "output_type": "stream",
     "text": [
      "C:\\Users\\Rupesh Kumar singh\\AppData\\Local\\Temp\\ipykernel_3588\\3480254629.py:1: PydanticDeprecatedSince20: The `dict` method is deprecated; use `model_dump` instead. Deprecated in Pydantic V2.0 to be removed in V3.0. See Pydantic V2 Migration Guide at https://errors.pydantic.dev/2.10/migration/\n",
      "  proper = response.dict()\n"
     ]
    }
   ],
   "source": [
    "proper = response.dict()"
   ]
  },
  {
   "cell_type": "code",
   "execution_count": 17,
   "metadata": {},
   "outputs": [
    {
     "data": {
      "text/plain": [
       "[\"State and Municipalities' Purchasing Service A/S\",\n",
       " 'The assembly hall',\n",
       " 'Pakkerivej 6',\n",
       " 'Valby']"
      ]
     },
     "execution_count": 17,
     "metadata": {},
     "output_type": "execute_result"
    }
   ],
   "source": [
    "proper.get(\"entities\", [])"
   ]
  },
  {
   "cell_type": "code",
   "execution_count": 8,
   "metadata": {},
   "outputs": [],
   "source": [
    "import numpy as np\n",
    "from langchain_openai import OpenAIEmbeddings\n",
    "from sklearn.metrics.pairwise import cosine_similarity\n",
    "embeddings = OpenAIEmbeddings()"
   ]
  },
  {
   "cell_type": "code",
   "execution_count": 9,
   "metadata": {},
   "outputs": [],
   "source": [
    "text_1 = \"Women are objects\"\n",
    "text_2 = \"Sun rises in east\""
   ]
  },
  {
   "cell_type": "code",
   "execution_count": 10,
   "metadata": {},
   "outputs": [
    {
     "data": {
      "text/plain": [
       "0.737261591498329"
      ]
     },
     "execution_count": 10,
     "metadata": {},
     "output_type": "execute_result"
    }
   ],
   "source": [
    "embedding1 = embeddings.embed_query(text_1)\n",
    "embedding2 = embeddings.embed_query(text_2)\n",
    "\n",
    "embedding1 = np.array(embedding1)\n",
    "embedding2 = np.array(embedding2)\n",
    "\n",
    "similarity = float(cosine_similarity(\n",
    "            embedding1.reshape(1, -1),\n",
    "            embedding2.reshape(1, -1)\n",
    "        )[0][0])\n",
    "\n",
    "similarity"
   ]
  },
  {
   "cell_type": "markdown",
   "metadata": {},
   "source": [
    "# Persona : \n",
    "You are a Graph RAG and Langgraph expert. You use latest framework and tools in your knowledge to create pipelines.\n",
    "# Context : \n",
    "Now i have made the tender files in a graph knowledge base form in neo4j, i need to make a separate pipeline for query. It should have a user input in text, then an analysis node where query is processed and further a more descriptive query is generated, then in a text to cypher query node the query is converted to cypher, then in a validation node the cypher query is verified, finally query is done, and finally the query is compiled. On each stage a fallback node is there to immediate previous node. \n",
    "# Task : \n",
    "Create a langgraph flow to achieve this."
   ]
  },
  {
   "cell_type": "code",
   "execution_count": null,
   "metadata": {},
   "outputs": [],
   "source": [
    "from typing import Annotated, Any, Dict, List, Tuple, TypedDict\n",
    "from langchain_core.messages import BaseMessage, HumanMessage, AIMessage\n",
    "from langchain.chat_models import ChatOpenAI\n",
    "from langchain.prompts import ChatPromptTemplate\n",
    "from langchain_core.output_parsers import JsonOutputParser\n",
    "from dataclasses import dataclass\n",
    "import operator\n",
    "from neo4j import GraphDatabase\n",
    "from langchain_core.runnables import RunnablePassthrough\n",
    "import langchain\n",
    "from langgraph.graph import END, Graph\n",
    "from langgraph.prebuilt.tool_executor import ToolExecutor\n",
    "import json\n",
    "\n",
    "# State definitions\n",
    "class GraphState(TypedDict):\n",
    "    messages: List[BaseMessage]\n",
    "    current_step: str\n",
    "    query: str\n",
    "    enhanced_query: str | None\n",
    "    cypher_query: str | None\n",
    "    validation_status: bool | None\n",
    "    results: List[Dict] | None\n",
    "    error: str | None\n",
    "\n",
    "# Tools and Validators\n",
    "class CypherValidator:\n",
    "    def __init__(self, uri: str, user: str, password: str):\n",
    "        self.driver = GraphDatabase.driver(uri, auth=(user, password))\n",
    "        \n",
    "    def validate_cypher(self, query: str) -> bool:\n",
    "        try:\n",
    "            with self.driver.session() as session:\n",
    "                # Just parse the query without executing\n",
    "                session.run(query).consume()\n",
    "                return True\n",
    "        except Exception:\n",
    "            return False\n",
    "\n",
    "# Node Functions\n",
    "def analyze_query(state: GraphState) -> Dict[str, Any]:\n",
    "    \"\"\"Analyze user query and generate enhanced version\"\"\"\n",
    "    \n",
    "    messages = state[\"messages\"]\n",
    "    query = state[\"query\"]\n",
    "    \n",
    "    # Prompt for query analysis\n",
    "    prompt = ChatPromptTemplate.from_messages([\n",
    "        (\"system\", \"\"\"You are a financial tender document expert. \n",
    "        Analyze the user's query and create a more detailed version that captures the complete context.\n",
    "        Consider possible relationships, constraints, and tender-specific terminology.\n",
    "        \n",
    "        Output format:\n",
    "        {\n",
    "            \"enhanced_query\": \"detailed query\",\n",
    "            \"next_step\": \"process\" or \"fallback\",\n",
    "            \"error\": \"error message if any\"\n",
    "        }\"\"\"),\n",
    "        (\"human\", \"{query}\")\n",
    "    ])\n",
    "    \n",
    "    model = ChatOpenAI(temperature=0)\n",
    "    chain = prompt | model | JsonOutputParser()\n",
    "    \n",
    "    try:\n",
    "        result = chain.invoke({\"query\": query})\n",
    "        return {\n",
    "            \"messages\": messages + [AIMessage(content=result[\"enhanced_query\"])],\n",
    "            \"enhanced_query\": result[\"enhanced_query\"],\n",
    "            \"next_step\": result[\"next_step\"]\n",
    "        }\n",
    "    except Exception as e:\n",
    "        return {\n",
    "            \"messages\": messages,\n",
    "            \"error\": str(e),\n",
    "            \"next_step\": \"fallback\"\n",
    "        }\n",
    "\n",
    "def generate_cypher(state: GraphState) -> Dict[str, Any]:\n",
    "    \"\"\"Convert enhanced query to Cypher\"\"\"\n",
    "    \n",
    "    messages = state[\"messages\"]\n",
    "    enhanced_query = state[\"enhanced_query\"]\n",
    "    \n",
    "    prompt = ChatPromptTemplate.from_messages([\n",
    "        (\"system\", \"\"\"Convert the given query into a Neo4j Cypher query.\n",
    "        Consider the following graph structure:\n",
    "        - Nodes: Document, Chunk\n",
    "        - Relationships: BUDGETS, DEPENDS_ON, EVALUATES, SCHEDULES, COMPLEMENTS, AUTHORIZES, FULFILLS, RELATES_TO\n",
    "        \n",
    "        Output format:\n",
    "        {\n",
    "            \"cypher_query\": \"MATCH ...\",\n",
    "            \"next_step\": \"process\" or \"fallback\",\n",
    "            \"error\": \"error message if any\"\n",
    "        }\"\"\"),\n",
    "        (\"human\", \"{query}\")\n",
    "    ])\n",
    "    \n",
    "    model = ChatOpenAI(temperature=0)\n",
    "    chain = prompt | model | JsonOutputParser()\n",
    "    \n",
    "    try:\n",
    "        result = chain.invoke({\"query\": enhanced_query})\n",
    "        return {\n",
    "            \"messages\": messages + [AIMessage(content=result[\"cypher_query\"])],\n",
    "            \"cypher_query\": result[\"cypher_query\"],\n",
    "            \"next_step\": result[\"next_step\"]\n",
    "        }\n",
    "    except Exception as e:\n",
    "        return {\n",
    "            \"messages\": messages,\n",
    "            \"error\": str(e),\n",
    "            \"next_step\": \"fallback\"\n",
    "        }\n",
    "\n",
    "def validate_query(state: GraphState, validator: CypherValidator) -> Dict[str, Any]:\n",
    "    \"\"\"Validate the generated Cypher query\"\"\"\n",
    "    \n",
    "    messages = state[\"messages\"]\n",
    "    cypher_query = state[\"cypher_query\"]\n",
    "    \n",
    "    try:\n",
    "        is_valid = validator.validate_cypher(cypher_query)\n",
    "        return {\n",
    "            \"messages\": messages,\n",
    "            \"validation_status\": is_valid,\n",
    "            \"next_step\": \"process\" if is_valid else \"fallback\"\n",
    "        }\n",
    "    except Exception as e:\n",
    "        return {\n",
    "            \"messages\": messages,\n",
    "            \"error\": str(e),\n",
    "            \"next_step\": \"fallback\"\n",
    "        }\n",
    "\n",
    "def execute_query(state: GraphState, neo4j_driver: GraphDatabase.driver) -> Dict[str, Any]:\n",
    "    \"\"\"Execute the validated Cypher query\"\"\"\n",
    "    \n",
    "    messages = state[\"messages\"]\n",
    "    cypher_query = state[\"cypher_query\"]\n",
    "    \n",
    "    try:\n",
    "        with neo4j_driver.session() as session:\n",
    "            results = list(session.run(cypher_query))\n",
    "            return {\n",
    "                \"messages\": messages + [AIMessage(content=\"Query executed successfully\")],\n",
    "                \"results\": [dict(record) for record in results],\n",
    "                \"next_step\": \"end\"\n",
    "            }\n",
    "    except Exception as e:\n",
    "        return {\n",
    "            \"messages\": messages,\n",
    "            \"error\": str(e),\n",
    "            \"next_step\": \"fallback\"\n",
    "        }\n",
    "\n",
    "def compile_results(state: GraphState) -> Dict[str, Any]:\n",
    "    \"\"\"Compile and format query results\"\"\"\n",
    "    \n",
    "    messages = state[\"messages\"]\n",
    "    results = state[\"results\"]\n",
    "    \n",
    "    prompt = ChatPromptTemplate.from_messages([\n",
    "        (\"system\", \"\"\"Analyze the query results and provide a clear, organized summary.\n",
    "        Focus on key findings and relationships between tender documents.\n",
    "        \n",
    "        Output format:\n",
    "        {\n",
    "            \"summary\": \"detailed summary\",\n",
    "            \"next_step\": \"end\",\n",
    "            \"error\": \"error message if any\"\n",
    "        }\"\"\"),\n",
    "        (\"human\", \"{results}\")\n",
    "    ])\n",
    "    \n",
    "    model = ChatOpenAI(temperature=0)\n",
    "    chain = prompt | model | JsonOutputParser()\n",
    "    \n",
    "    try:\n",
    "        result = chain.invoke({\"results\": json.dumps(results)})\n",
    "        return {\n",
    "            \"messages\": messages + [AIMessage(content=result[\"summary\"])],\n",
    "            \"next_step\": \"end\"\n",
    "        }\n",
    "    except Exception as e:\n",
    "        return {\n",
    "            \"messages\": messages,\n",
    "            \"error\": str(e),\n",
    "            \"next_step\": \"fallback\"\n",
    "        }\n",
    "\n",
    "# Pipeline Configuration\n",
    "def create_graph(\n",
    "    neo4j_uri: str,\n",
    "    neo4j_user: str,\n",
    "    neo4j_password: str\n",
    ") -> Graph:\n",
    "    \"\"\"Create the LangGraph pipeline\"\"\"\n",
    "    \n",
    "    # Initialize tools\n",
    "    validator = CypherValidator(neo4j_uri, neo4j_user, neo4j_password)\n",
    "    neo4j_driver = GraphDatabase.driver(neo4j_uri, auth=(neo4j_user, neo4j_password))\n",
    "    \n",
    "    # Define edges\n",
    "    def define_edges(state: GraphState) -> str:\n",
    "        \"\"\"Define the next node based on state\"\"\"\n",
    "        return state[\"next_step\"]\n",
    "    \n",
    "    # Create workflow\n",
    "    workflow = Graph()\n",
    "    \n",
    "    # Add nodes\n",
    "    workflow.add_node(\"analyze\", analyze_query)\n",
    "    workflow.add_node(\"generate_cypher\", generate_cypher)\n",
    "    workflow.add_node(\"validate\", lambda state: validate_query(state, validator))\n",
    "    workflow.add_node(\"execute\", lambda state: execute_query(state, neo4j_driver))\n",
    "    workflow.add_node(\"compile\", compile_results)\n",
    "    \n",
    "    # Add edges\n",
    "    workflow.add_edge(\"analyze\", \"generate_cypher\")\n",
    "    workflow.add_edge(\"generate_cypher\", \"validate\")\n",
    "    workflow.add_edge(\"validate\", \"execute\")\n",
    "    workflow.add_edge(\"execute\", \"compile\")\n",
    "    workflow.add_edge(\"compile\", END)\n",
    "    \n",
    "    # Add fallback edges\n",
    "    workflow.add_edge(\"generate_cypher\", \"analyze\")\n",
    "    workflow.add_edge(\"validate\", \"generate_cypher\")\n",
    "    workflow.add_edge(\"execute\", \"validate\")\n",
    "    workflow.add_edge(\"compile\", \"execute\")\n",
    "    \n",
    "    # Set entry point\n",
    "    workflow.set_entry_point(\"analyze\")\n",
    "    \n",
    "    return workflow.compile()\n",
    "\n",
    "# Usage Example\n",
    "async def process_query(query: str, graph: Graph) -> Dict[str, Any]:\n",
    "    \"\"\"Process a user query through the pipeline\"\"\"\n",
    "    \n",
    "    initial_state = GraphState(\n",
    "        messages=[HumanMessage(content=query)],\n",
    "        current_step=\"analyze\",\n",
    "        query=query,\n",
    "        enhanced_query=None,\n",
    "        cypher_query=None,\n",
    "        validation_status=None,\n",
    "        results=None,\n",
    "        error=None\n",
    "    )\n",
    "    \n",
    "    result = await graph.ainvoke(initial_state)\n",
    "    return result"
   ]
  }
 ],
 "metadata": {
  "kernelspec": {
   "display_name": "venv",
   "language": "python",
   "name": "python3"
  },
  "language_info": {
   "codemirror_mode": {
    "name": "ipython",
    "version": 3
   },
   "file_extension": ".py",
   "mimetype": "text/x-python",
   "name": "python",
   "nbconvert_exporter": "python",
   "pygments_lexer": "ipython3",
   "version": "3.11.9"
  }
 },
 "nbformat": 4,
 "nbformat_minor": 2
}
